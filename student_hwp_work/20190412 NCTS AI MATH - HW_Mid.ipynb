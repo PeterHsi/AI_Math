{
 "cells": [
  {
   "cell_type": "code",
   "execution_count": 1,
   "metadata": {
    "ExecuteTime": {
     "end_time": "2019-04-12T10:28:42.480857Z",
     "start_time": "2019-04-12T10:28:39.934956Z"
    }
   },
   "outputs": [],
   "source": [
    "import os\n",
    "import datetime\n",
    "import pathlib\n",
    "import pandas as pd\n",
    "import requests\n",
    "from bs4 import BeautifulSoup"
   ]
  },
  {
   "cell_type": "code",
   "execution_count": 2,
   "metadata": {
    "ExecuteTime": {
     "end_time": "2019-04-12T10:28:46.458068Z",
     "start_time": "2019-04-12T10:28:45.490181Z"
    }
   },
   "outputs": [
    {
     "data": {
      "text/html": [
       "<div>\n",
       "<style scoped>\n",
       "    .dataframe tbody tr th:only-of-type {\n",
       "        vertical-align: middle;\n",
       "    }\n",
       "\n",
       "    .dataframe tbody tr th {\n",
       "        vertical-align: top;\n",
       "    }\n",
       "\n",
       "    .dataframe thead th {\n",
       "        text-align: right;\n",
       "    }\n",
       "</style>\n",
       "<table border=\"1\" class=\"dataframe\">\n",
       "  <thead>\n",
       "    <tr style=\"text-align: right;\">\n",
       "      <th></th>\n",
       "      <th>title</th>\n",
       "      <th>vol</th>\n",
       "      <th>update</th>\n",
       "      <th>number</th>\n",
       "      <th>date</th>\n",
       "    </tr>\n",
       "  </thead>\n",
       "  <tbody>\n",
       "    <tr>\n",
       "      <th>0</th>\n",
       "      <td>戀愛幕末男友外傳-危機</td>\n",
       "      <td>2</td>\n",
       "      <td>04/12</td>\n",
       "      <td>2149</td>\n",
       "      <td>2019/04/12 18:28:46</td>\n",
       "    </tr>\n",
       "    <tr>\n",
       "      <th>1</th>\n",
       "      <td>Fight League 交鋒聯盟</td>\n",
       "      <td>9</td>\n",
       "      <td>04/11</td>\n",
       "      <td>57250</td>\n",
       "      <td>2019/04/12 18:28:46</td>\n",
       "    </tr>\n",
       "    <tr>\n",
       "      <th>2</th>\n",
       "      <td>一拳超人 (第二季)</td>\n",
       "      <td>13</td>\n",
       "      <td>04/10</td>\n",
       "      <td>356899</td>\n",
       "      <td>2019/04/12 18:28:46</td>\n",
       "    </tr>\n",
       "    <tr>\n",
       "      <th>3</th>\n",
       "      <td>強襲魔女 501 部隊出動！</td>\n",
       "      <td>1</td>\n",
       "      <td>04/10</td>\n",
       "      <td>14948</td>\n",
       "      <td>2019/04/12 18:28:46</td>\n",
       "    </tr>\n",
       "    <tr>\n",
       "      <th>4</th>\n",
       "      <td>鑽石王牌 act2</td>\n",
       "      <td>2</td>\n",
       "      <td>04/09</td>\n",
       "      <td>58901</td>\n",
       "      <td>2019/04/12 18:28:46</td>\n",
       "    </tr>\n",
       "  </tbody>\n",
       "</table>\n",
       "</div>"
      ],
      "text/plain": [
       "               title vol update  number                 date\n",
       "0        戀愛幕末男友外傳-危機   2  04/12    2149  2019/04/12 18:28:46\n",
       "1  Fight League 交鋒聯盟   9  04/11   57250  2019/04/12 18:28:46\n",
       "2         一拳超人 (第二季)  13  04/10  356899  2019/04/12 18:28:46\n",
       "3     強襲魔女 501 部隊出動！   1  04/10   14948  2019/04/12 18:28:46\n",
       "4          鑽石王牌 act2   2  04/09   58901  2019/04/12 18:28:46"
      ]
     },
     "execution_count": 2,
     "metadata": {},
     "output_type": "execute_result"
    }
   ],
   "source": [
    "# 取得巴哈動畫瘋官網 HTML\n",
    "req_anigamer = requests.get('https://ani.gamer.com.tw/')\n",
    "soup = BeautifulSoup(req_anigamer.text, 'html.parser')\n",
    "thisSeasonAnime = soup.find_all(attrs={\"data-look\": \"本季新番\"})\n",
    "\n",
    "## 擷取資訊項目\n",
    "numAni = [x for x in range(len(thisSeasonAnime))]\n",
    "title = [str(thisSeasonAnime[i].find('p').string) for i in numAni]\n",
    "vol = [thisSeasonAnime[i].find(\n",
    "    class_=\"newanime-vol\").string.replace(\"第 \", \"\").replace(\" 集\", \"\") for i in numAni]\n",
    "update = [thisSeasonAnime[i].find(\n",
    "    class_=\"newanime-date\").string.replace(\" 更新\", \"\") for i in numAni]\n",
    "untrt_number = [thisSeasonAnime[i].find(\n",
    "    class_=\"newanime-count\") for i in numAni]\n",
    "number = []\n",
    "for str_temp in untrt_number:\n",
    "    posi_end = str(str_temp).find(\"</span>\")\n",
    "    posi_stat = str(str_temp).rfind(\">\", 0, posi_end)\n",
    "    num_temp = int(str(str_temp)[posi_stat+1:posi_end].replace(\",\", \"\"))\n",
    "    number.append(num_temp)\n",
    "\n",
    "## 將擷取資料彙整於表格\n",
    "AnimeInfo = pd.DataFrame(\n",
    "    {'title': title,\n",
    "     'vol': vol,\n",
    "     'update': update,\n",
    "     'number': number\n",
    "     })\n",
    "### 加入彙整時間戳記\n",
    "AnimeInfo['date'] = datetime.datetime.now().strftime(\"%Y/%m/%d %H:%M:%S\")\n",
    "AnimeInfo.head()"
   ]
  },
  {
   "cell_type": "code",
   "execution_count": 3,
   "metadata": {
    "ExecuteTime": {
     "end_time": "2019-04-12T10:28:56.631026Z",
     "start_time": "2019-04-12T10:28:56.571027Z"
    }
   },
   "outputs": [],
   "source": [
    "# 存檔\n",
    "tsp = datetime.datetime.now().strftime(\"%Y%m%d-%H%M\")\n",
    "if not os.path.exists(pathlib.PurePath('DailyData/')):\n",
    "    os.makedirs(pathlib.PurePath('DailyData/'))\n",
    "AnimeInfo.to_csv(pathlib.PurePath('DailyData/AniGamerInfo '+tsp+'.csv'))"
   ]
  },
  {
   "cell_type": "code",
   "execution_count": 4,
   "metadata": {},
   "outputs": [],
   "source": []
  }
 ],
 "metadata": {
  "file_extension": ".py",
  "hide_input": false,
  "kernelspec": {
   "display_name": "Python 3",
   "language": "python",
   "name": "python3"
  },
  "language_info": {
   "codemirror_mode": {
    "name": "ipython",
    "version": 3
   },
   "file_extension": ".py",
   "mimetype": "text/x-python",
   "name": "python",
   "nbconvert_exporter": "python",
   "pygments_lexer": "ipython3",
   "version": "3.6.8"
  },
  "mimetype": "text/x-python",
  "name": "python",
  "npconvert_exporter": "python",
  "pygments_lexer": "ipython3",
  "varInspector": {
   "cols": {
    "lenName": 16,
    "lenType": 16,
    "lenVar": 40
   },
   "kernels_config": {
    "python": {
     "delete_cmd_postfix": "",
     "delete_cmd_prefix": "del ",
     "library": "var_list.py",
     "varRefreshCmd": "print(var_dic_list())"
    },
    "r": {
     "delete_cmd_postfix": ") ",
     "delete_cmd_prefix": "rm(",
     "library": "var_list.r",
     "varRefreshCmd": "cat(var_dic_list()) "
    }
   },
   "types_to_exclude": [
    "module",
    "function",
    "builtin_function_or_method",
    "instance",
    "_Feature"
   ],
   "window_display": false
  },
  "version": 3
 },
 "nbformat": 4,
 "nbformat_minor": 2
}
