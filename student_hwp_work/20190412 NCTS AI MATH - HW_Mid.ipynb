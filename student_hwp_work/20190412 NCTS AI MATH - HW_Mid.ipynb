{
 "cells": [
  {
   "cell_type": "markdown",
   "metadata": {
    "ExecuteTime": {
     "end_time": "2019-04-12T10:28:42.480857Z",
     "start_time": "2019-04-12T10:28:39.934956Z"
    }
   },
   "source": [
    "# HW 期中 - 巴哈動畫瘋觀看數爬蟲\n",
    "\n",
    "> Hsiao, Wei-pin @ NTNU Math\n",
    "\n",
    "## 描述\n",
    "\n",
    "[巴哈動畫瘋](https://ani.gamer.com.tw/)是台灣目前最大的動畫串流網站，其運機制有些類似中國的 bilibili 跟日本的 niconico (但不允許網友自行上傳動畫)，本期中專題試圖利用 Python 建立爬蟲，定期於動畫瘋官網抓取新番(指本季度正在放送的日本動畫節目)觀看類計次數。本專案分為下列幾個部分：\n",
    "\n",
    "1. [`AGI_Daily_DWer.py`](https://github.com/PeterHsi/AniGamerInfo/blob/master/AGI_Daily_DWer.py) 爬蟲程式碼，將巴哈動畫瘋之觀看數字存檔為 `.csv` 檔。\n",
    "   \n",
    "   檔案命名規則為：`AGI_Daily_YYYYmmdd-HHMM.csv`，其中 `YYYY` 為西元年，`mm` 為月，`dd` 為日，`HH` 為時(24小時制)，`MM` 為分，時區為 UTC/GMT+8 (台北時區)。\n",
    "   表格說明詳見： https://github.com/PeterHsi/AniGamerInfo/blob/master/README.md\n",
    "   \n",
    "2. 排程指令，以設定排程方式執行 `AGI_Daily_DWer.py` 。\n",
    "\n",
    "目前成果放置於 [PeterHsi/AniGamerInfo](https://github.com/PeterHsi/AniGamerInfo) 此 GitHub 專案內(包含每小時蒐集一次之數據)，歡迎各位指教。\n",
    "    \n",
    "### 前人統計數字參考：\n",
    "- [\\[18秋\\] 動畫瘋 秋番累積觀看次數總結算](https://www.ptt.cc/bbs/C_Chat/M.1546933824.A.B3A.html) (by PTTid: durantjosh)\n",
    "- [Re: \\[19冬\\] 動畫瘋 冬番累積觀看次數走勢](https://www.ptt.cc/bbs/C_Chat/M.1554210297.A.6B5.html) (by PTTid: durantjosh)\n",
    "\n",
    "---\n",
    "\n",
    "## 1. 爬蟲程式碼\n",
    "\n",
    "程式碼存取於 [`AGI_Daily_DWer.py`](https://github.com/PeterHsi/AniGamerInfo/blob/master/AGI_Daily_DWer.py)，以下為程式碼說明：\n",
    "\n",
    "### 載入需要之套件\n",
    "\n",
    "載入如下套件，最重要的為 BeautifulSoup (負責爬資料)與 pandas (負責製表)。"
   ]
  },
  {
   "cell_type": "code",
   "execution_count": 1,
   "metadata": {
    "ExecuteTime": {
     "end_time": "2019-04-12T10:28:42.480857Z",
     "start_time": "2019-04-12T10:28:39.934956Z"
    }
   },
   "outputs": [],
   "source": [
    "import os\n",
    "import datetime\n",
    "import pandas as pd\n",
    "import requests\n",
    "from bs4 import BeautifulSoup"
   ]
  },
  {
   "cell_type": "markdown",
   "metadata": {},
   "source": [
    "### 取得巴哈動畫瘋官網 HTML 資料"
   ]
  },
  {
   "cell_type": "code",
   "execution_count": 2,
   "metadata": {
    "ExecuteTime": {
     "end_time": "2019-04-12T10:28:46.458068Z",
     "start_time": "2019-04-12T10:28:45.490181Z"
    }
   },
   "outputs": [],
   "source": [
    "reqAniGamer = requests.get('https://ani.gamer.com.tw/')\n",
    "soup = BeautifulSoup(reqAniGamer.text, 'html.parser')\n",
    "thisSeasonAnime = soup.find_all(attrs={\"data-look\": \"本季新番\"})"
   ]
  },
  {
   "cell_type": "markdown",
   "metadata": {
    "ExecuteTime": {
     "end_time": "2019-04-12T10:28:46.458068Z",
     "start_time": "2019-04-12T10:28:45.490181Z"
    }
   },
   "source": [
    "![](Data/HW_Mid_aniGamerHomepage.png)\n",
    "\n",
    "直接檢查官網原始碼會發現，每個節目的資訊都掛在這邊，所以這邊是我們要集中處理之區域"
   ]
  },
  {
   "cell_type": "code",
   "execution_count": 2,
   "metadata": {
    "ExecuteTime": {
     "end_time": "2019-04-12T10:28:46.458068Z",
     "start_time": "2019-04-12T10:28:45.490181Z"
    }
   },
   "outputs": [],
   "source": [
    "numAni = [x for x in range(len(thisSeasonAnime))]\n",
    "title = [str(thisSeasonAnime[i].find('p').string) for i in numAni]\n",
    "vol = [thisSeasonAnime[i].find(\n",
    "    class_=\"newanime-vol\").string.replace(\"第 \", \"\").replace(\" 集\", \"\") for i in numAni]\n",
    "update = [thisSeasonAnime[i].find(\n",
    "    class_=\"newanime-date\").string.replace(\" 更新\", \"\") for i in numAni]\n",
    "unNumber = [thisSeasonAnime[i].find(\n",
    "    class_=\"newanime-count\") for i in numAni]\n",
    "number = []\n",
    "for str_temp in unNumber:\n",
    "    posEnd = str(str_temp).find(\"</span>\")\n",
    "    posSta = str(str_temp).rfind(\">\", 0, posEnd)\n",
    "    num_temp = str(str_temp)[posSta+1:posEnd].replace(\",\", \"\")\n",
    "    number.append(num_temp)"
   ]
  },
  {
   "cell_type": "markdown",
   "metadata": {
    "ExecuteTime": {
     "end_time": "2019-04-12T10:28:46.458068Z",
     "start_time": "2019-04-12T10:28:45.490181Z"
    }
   },
   "source": [
    "### 將擷取資料彙整於表格"
   ]
  },
  {
   "cell_type": "code",
   "execution_count": 2,
   "metadata": {
    "ExecuteTime": {
     "end_time": "2019-04-12T10:28:46.458068Z",
     "start_time": "2019-04-12T10:28:45.490181Z"
    }
   },
   "outputs": [],
   "source": [
    "AnimeInfo = pd.DataFrame(\n",
    "    {'title': title,\n",
    "     'vol': vol,\n",
    "     'update': update,\n",
    "     'number': number\n",
    "     })\n",
    "AnimeInfo['date'] = datetime.datetime.now().strftime(\"%Y/%m/%d %H:%M:%S\")"
   ]
  },
  {
   "cell_type": "markdown",
   "metadata": {
    "ExecuteTime": {
     "end_time": "2019-04-12T10:28:46.458068Z",
     "start_time": "2019-04-12T10:28:45.490181Z"
    }
   },
   "source": [
    "下載下來之資料粗略如下："
   ]
  },
  {
   "cell_type": "code",
   "execution_count": 2,
   "metadata": {
    "ExecuteTime": {
     "end_time": "2019-04-12T10:28:46.458068Z",
     "start_time": "2019-04-12T10:28:45.490181Z"
    }
   },
   "outputs": [
    {
     "data": {
      "text/html": [
       "<div>\n",
       "<style scoped>\n",
       "    .dataframe tbody tr th:only-of-type {\n",
       "        vertical-align: middle;\n",
       "    }\n",
       "\n",
       "    .dataframe tbody tr th {\n",
       "        vertical-align: top;\n",
       "    }\n",
       "\n",
       "    .dataframe thead th {\n",
       "        text-align: right;\n",
       "    }\n",
       "</style>\n",
       "<table border=\"1\" class=\"dataframe\">\n",
       "  <thead>\n",
       "    <tr style=\"text-align: right;\">\n",
       "      <th></th>\n",
       "      <th>title</th>\n",
       "      <th>vol</th>\n",
       "      <th>update</th>\n",
       "      <th>number</th>\n",
       "      <th>date</th>\n",
       "    </tr>\n",
       "  </thead>\n",
       "  <tbody>\n",
       "    <tr>\n",
       "      <th>0</th>\n",
       "      <td>戀愛幕末男友外傳-危機</td>\n",
       "      <td>2</td>\n",
       "      <td>04/12</td>\n",
       "      <td>2149</td>\n",
       "      <td>2019/04/12 18:28:46</td>\n",
       "    </tr>\n",
       "    <tr>\n",
       "      <th>1</th>\n",
       "      <td>Fight League 交鋒聯盟</td>\n",
       "      <td>9</td>\n",
       "      <td>04/11</td>\n",
       "      <td>57250</td>\n",
       "      <td>2019/04/12 18:28:46</td>\n",
       "    </tr>\n",
       "    <tr>\n",
       "      <th>2</th>\n",
       "      <td>一拳超人 (第二季)</td>\n",
       "      <td>13</td>\n",
       "      <td>04/10</td>\n",
       "      <td>356899</td>\n",
       "      <td>2019/04/12 18:28:46</td>\n",
       "    </tr>\n",
       "    <tr>\n",
       "      <th>3</th>\n",
       "      <td>強襲魔女 501 部隊出動！</td>\n",
       "      <td>1</td>\n",
       "      <td>04/10</td>\n",
       "      <td>14948</td>\n",
       "      <td>2019/04/12 18:28:46</td>\n",
       "    </tr>\n",
       "    <tr>\n",
       "      <th>4</th>\n",
       "      <td>鑽石王牌 act2</td>\n",
       "      <td>2</td>\n",
       "      <td>04/09</td>\n",
       "      <td>58901</td>\n",
       "      <td>2019/04/12 18:28:46</td>\n",
       "    </tr>\n",
       "  </tbody>\n",
       "</table>\n",
       "</div>"
      ],
      "text/plain": [
       "               title vol update  number                 date\n",
       "0        戀愛幕末男友外傳-危機   2  04/12    2149  2019/04/12 18:28:46\n",
       "1  Fight League 交鋒聯盟   9  04/11   57250  2019/04/12 18:28:46\n",
       "2         一拳超人 (第二季)  13  04/10  356899  2019/04/12 18:28:46\n",
       "3     強襲魔女 501 部隊出動！   1  04/10   14948  2019/04/12 18:28:46\n",
       "4          鑽石王牌 act2   2  04/09   58901  2019/04/12 18:28:46"
      ]
     },
     "execution_count": 2,
     "metadata": {},
     "output_type": "execute_result"
    }
   ],
   "source": [
    "AnimeInfo.head()"
   ]
  },
  {
   "cell_type": "markdown",
   "metadata": {
    "ExecuteTime": {
     "end_time": "2019-04-12T10:28:56.631026Z",
     "start_time": "2019-04-12T10:28:56.571027Z"
    }
   },
   "source": [
    "### 存檔"
   ]
  },
  {
   "cell_type": "code",
   "execution_count": 3,
   "metadata": {
    "ExecuteTime": {
     "end_time": "2019-04-12T10:28:56.631026Z",
     "start_time": "2019-04-12T10:28:56.571027Z"
    }
   },
   "outputs": [],
   "source": [
    "tsp = datetime.datetime.now().strftime(\"%Y%m%d-%H%M\")\n",
    "if not os.path.exists(pathlib.PurePath('DailyData/'))\n",
    "    os.makedirs(pathlib.PurePath('DailyData/'))\n",
    "AnimeInfo.to_csv(pathlib.PurePath('DailyData/AniGamerInfo '+tsp+'.csv'))"
   ]
  },
  {
   "cell_type": "markdown",
   "metadata": {},
   "source": [
    "不使用 `PurePath` 的版本"
   ]
  },
  {
   "cell_type": "code",
   "execution_count": null,
   "metadata": {},
   "outputs": [],
   "source": [
    "# tsp = datetime.datetime.now().strftime(\"%Y%m%d-%H%M\")\n",
    "# if not os.path.exists('DailyData/'):\n",
    "#     os.makedirs('DailyData/')\n",
    "# AnimeInfo.to_csv('DailyData/AGI_Daily_'+tsp+'.csv')"
   ]
  },
  {
   "cell_type": "markdown",
   "metadata": {},
   "source": [
    "## 2. 排程指令\n",
    "\n",
    "設定完對應的 repo 之後，利用電腦之排程功能執行下列命令"
   ]
  },
  {
   "cell_type": "code",
   "execution_count": null,
   "metadata": {},
   "outputs": [],
   "source": [
    "# cd /your path here/\n",
    "# python3 AGI_Daily_DWer.py\n",
    "# git commit -m \"Schedule data update.\"\n",
    "# git push -u origin master"
   ]
  },
  {
   "cell_type": "markdown",
   "metadata": {},
   "source": [
    "### 附錄：Windows 的排程功能\n",
    "\n",
    "首先請找到「工作排程器(Task Scheduler)」這個內建軟體\n",
    "\n",
    "![](Data/HW_Mid_winSche01.png)\n",
    "\n",
    "然後按「建立工作」\n",
    "\n",
    "![](Data/HW_Mid_winSche02.png)\n",
    "\n",
    "然後新增動作(將排程指以純文字檔存檔並給予 `.bat` 副檔名並以下圖方式選定執行)\n",
    "\n",
    "![](Data/HW_Mid_winSche03.png)\n",
    "\n",
    "設定觸發條件\n",
    "\n",
    "![](Data/HW_Mid_winSche04.png)\n",
    "\n",
    "最後設定適當權限並儲存排程\n",
    "\n",
    "![](Data/HW_Mid_winSche05.png)\n",
    "\n",
    "之後檢查是否有依時工作再調整就好了!"
   ]
  }
 ],
 "metadata": {
  "file_extension": ".py",
  "hide_input": false,
  "kernelspec": {
   "display_name": "Python 3",
   "language": "python",
   "name": "python3"
  },
  "language_info": {
   "codemirror_mode": {
    "name": "ipython",
    "version": 3
   },
   "file_extension": ".py",
   "mimetype": "text/x-python",
   "name": "python",
   "nbconvert_exporter": "python",
   "pygments_lexer": "ipython3",
   "version": "3.6.8"
  },
  "mimetype": "text/x-python",
  "name": "python",
  "npconvert_exporter": "python",
  "pygments_lexer": "ipython3",
  "varInspector": {
   "cols": {
    "lenName": 16,
    "lenType": 16,
    "lenVar": 40
   },
   "kernels_config": {
    "python": {
     "delete_cmd_postfix": "",
     "delete_cmd_prefix": "del ",
     "library": "var_list.py",
     "varRefreshCmd": "print(var_dic_list())"
    },
    "r": {
     "delete_cmd_postfix": ") ",
     "delete_cmd_prefix": "rm(",
     "library": "var_list.r",
     "varRefreshCmd": "cat(var_dic_list()) "
    }
   },
   "types_to_exclude": [
    "module",
    "function",
    "builtin_function_or_method",
    "instance",
    "_Feature"
   ],
   "window_display": false
  },
  "version": 3
 },
 "nbformat": 4,
 "nbformat_minor": 2
}
