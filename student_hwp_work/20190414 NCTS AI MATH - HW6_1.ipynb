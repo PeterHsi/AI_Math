{
 "cells": [
  {
   "cell_type": "markdown",
   "metadata": {},
   "source": [
    " # HW 6-1 DIY Gradient Descent\n",
    "\n",
    " Wei-Pin, Hsiao @ NTNU Math\n",
    "\n",
    " ---\n",
    "\n",
    " Before create gradient descent in more general way, we need numerical derivative function.\n",
    "\n",
    " ## Numerical Derivative Function\n",
    "\n",
    " > via https://www.math.ubc.ca/~pwalls/math-python/differentiation/\n",
    "\n",
    " Since The derivative of a function $f(x)$ at $x=a$ is\n",
    "\n",
    " $$\n",
    " f'(a) = \\lim_{h \\to 0} \\frac{f(a+h) - f(a)}{h}\n",
    " $$\n",
    "\n",
    " The numerical approach of derivative can use [finite difference](https://en.wikipedia.org/wiki/Finite_difference#Forward,_backward,_and_central_differences):\n",
    "\n",
    " - forward difference\n",
    "\n",
    "   $$\n",
    "   f'(a) \\approx \\frac{f(a + h) - f(a)}{h},\n",
    "   $$\n",
    "\n",
    " - backward difference\n",
    "\n",
    "   $$\n",
    "   f'(a) \\approx \\frac{f(a) - f(a - h)}{h},\n",
    "   $$\n",
    "\n",
    " - central difference\n",
    "\n",
    "   $$\n",
    "   f'(a) \\approx \\frac{1}{2} \\left( \\frac{f(a + h) - f(a)}{h} + \\frac{f(a) - f(a - h)}{h} \\right) = \\frac{f(a + h) - f(a - h)}{2h}.\n",
    "   $$\n",
    "\n",
    " Use this formula, we can use belowing function to get numerical solution of derivative."
   ]
  },
  {
   "cell_type": "code",
   "execution_count": 1,
   "metadata": {
    "ExecuteTime": {
     "end_time": "2019-04-14T16:02:44.483566Z",
     "start_time": "2019-04-14T16:02:44.058471Z"
    }
   },
   "outputs": [],
   "source": [
    "%matplotlib inline\n",
    "import numpy as np\n",
    "import matplotlib.pyplot as plt\n",
    "\n",
    "def derivative(f, a, method='central', h=0.01):\n",
    "    '''Compute the difference formula for f'(a) with step size h.\n",
    "\n",
    "    Parameters\n",
    "    ----------\n",
    "    f : function\n",
    "        Vectorized function of one variable\n",
    "    a : number\n",
    "        Compute derivative at x = a\n",
    "    method : string\n",
    "        Difference formula: 'forward', 'backward' or 'central'\n",
    "    h : number\n",
    "        Step size in difference formula\n",
    "\n",
    "    Returns\n",
    "    -------\n",
    "    float\n",
    "        Difference formula:\n",
    "            central: f(a+h) - f(a-h))/2h\n",
    "            forward: f(a+h) - f(a))/h\n",
    "            backward: f(a) - f(a-h))/h            \n",
    "    '''\n",
    "    if method == 'central':\n",
    "        return (f(a + h) - f(a - h))/(2*h)\n",
    "    elif method == 'forward':\n",
    "        return (f(a + h) - f(a))/h\n",
    "    elif method == 'backward':\n",
    "        return (f(a) - f(a - h))/h\n",
    "    else:\n",
    "        raise ValueError(\"Method must be 'central', 'forward' or 'backward'.\")\n"
   ]
  },
  {
   "cell_type": "markdown",
   "metadata": {},
   "source": [
    " ## Single Variable Gradient Descent Function\n",
    " \n",
    " The formula of gradient descent is\n",
    "\n",
    " $$\n",
    " x -\\eta \\frac{L(x)}{x}.\n",
    " $$\n"
   ]
  },
  {
   "cell_type": "code",
   "execution_count": 2,
   "metadata": {
    "ExecuteTime": {
     "end_time": "2019-04-14T16:02:44.495903Z",
     "start_time": "2019-04-14T16:02:44.483566Z"
    }
   },
   "outputs": [],
   "source": [
    "def SGD(f, x_int=np.random.rand(1), eta=1, err=10**(-7), maxIter=1000):\n",
    "    '''Single variable gradient descent for loss function f(x).\n",
    "\n",
    "    Parameters\n",
    "    ----------\n",
    "    f : function\n",
    "        Vectorized function of one variable\n",
    "    x_int : number\n",
    "        Initial value of x\n",
    "    eta : number\n",
    "        Learning rate\n",
    "    err : number\n",
    "        Acceptable compute error, for use in stop condition\n",
    "    maxIter: number\n",
    "        Maximun iteration steps of gradient descent\n",
    "\n",
    "    Returns\n",
    "    -------\n",
    "    list    \n",
    "    '''\n",
    "    x = x_int\n",
    "    diff = 1\n",
    "    while diff >= err:\n",
    "        x = np.append(x, x[-1] - eta * derivative(\n",
    "            f, x[-1], method='central', h=np.sqrt(err)))\n",
    "        diff = abs(x[-1]-x[-2])\n",
    "    return x[-1], x"
   ]
  },
  {
   "cell_type": "markdown",
   "metadata": {},
   "source": [
    " ## Example\n",
    "\n",
    " We use $f(x) = - \\left(\\frac{4x^2+2x+1}{x+2e^x}\\right)^x$ as loss function\n"
   ]
  },
  {
   "cell_type": "code",
   "execution_count": 3,
   "metadata": {
    "ExecuteTime": {
     "end_time": "2019-04-14T16:02:44.510862Z",
     "start_time": "2019-04-14T16:02:44.500891Z"
    }
   },
   "outputs": [],
   "source": [
    "def f(x): return -((4*x**2 + 2*x + 1)/(x + 2*np.exp(x)))**x"
   ]
  },
  {
   "cell_type": "markdown",
   "metadata": {},
   "source": [
    " The estimate of minmun loss occur at:"
   ]
  },
  {
   "cell_type": "code",
   "execution_count": 4,
   "metadata": {
    "ExecuteTime": {
     "end_time": "2019-04-14T16:02:44.527817Z",
     "start_time": "2019-04-14T16:02:44.512867Z"
    }
   },
   "outputs": [
    {
     "name": "stdout",
     "output_type": "stream",
     "text": [
      "The minmun of f(x) occur at: x= 2.0653555407083775  . (Using 21 steps.)\n"
     ]
    }
   ],
   "source": [
    "x_est, lc_x = SGD(f)\n",
    "print(\"The minmun of f(x) occur at: x=\", x_est,\n",
    "      \" . (Using\", len(lc_x), \"steps.)\")"
   ]
  },
  {
   "cell_type": "markdown",
   "metadata": {},
   "source": [
    " most of steps is very close to the minmun point"
   ]
  },
  {
   "cell_type": "code",
   "execution_count": 5,
   "metadata": {
    "ExecuteTime": {
     "end_time": "2019-04-14T16:02:44.872895Z",
     "start_time": "2019-04-14T16:02:44.530810Z"
    }
   },
   "outputs": [
    {
     "name": "stderr",
     "output_type": "stream",
     "text": [
      "C:\\ProgramData\\Anaconda3\\lib\\site-packages\\ipykernel_launcher.py:1: RuntimeWarning: invalid value encountered in power\n",
      "  \"\"\"Entry point for launching an IPython kernel.\n"
     ]
    },
    {
     "data": {
      "text/plain": [
       "<matplotlib.legend.Legend at 0x19975668630>"
      ]
     },
     "execution_count": 5,
     "metadata": {},
     "output_type": "execute_result"
    },
    {
     "data": {
      "image/png": "[encoded data removed]",
      "text/plain": [
       "<Figure size 432x288 with 1 Axes>"
      ]
     },
     "metadata": {
      "needs_background": "light"
     },
     "output_type": "display_data"
    }
   ],
   "source": [
    "lc_y = f(lc_x)\n",
    "\n",
    "x = np.linspace(-1, 4, 10000)\n",
    "y = f(x)\n",
    "plt.figure()\n",
    "plt.plot(x, y, label='y=f(x)')\n",
    "plt.plot(lc_x, lc_y, 'r.', label='GD steps')\n",
    "plt.quiver(lc_x[:-1], lc_y[:-1], lc_x[1:]-lc_x[:-1], lc_y[1:] -\n",
    "           lc_y[:-1], scale_units='xy', angles='xy', scale=1, color='#88FF00')\n",
    "plt.legend(loc='best')"
   ]
  }
 ],
 "metadata": {
  "file_extension": ".py",
  "hide_input": false,
  "kernelspec": {
   "display_name": "Python 3",
   "language": "python",
   "name": "python3"
  },
  "language_info": {
   "codemirror_mode": {
    "name": "ipython",
    "version": 3
   },
   "file_extension": ".py",
   "mimetype": "text/x-python",
   "name": "python",
   "nbconvert_exporter": "python",
   "pygments_lexer": "ipython3",
   "version": "3.6.8"
  },
  "mimetype": "text/x-python",
  "name": "python",
  "npconvert_exporter": "python",
  "pygments_lexer": "ipython3",
  "varInspector": {
   "cols": {
    "lenName": 16,
    "lenType": 16,
    "lenVar": 40
   },
   "kernels_config": {
    "python": {
     "delete_cmd_postfix": "",
     "delete_cmd_prefix": "del ",
     "library": "var_list.py",
     "varRefreshCmd": "print(var_dic_list())"
    },
    "r": {
     "delete_cmd_postfix": ") ",
     "delete_cmd_prefix": "rm(",
     "library": "var_list.r",
     "varRefreshCmd": "cat(var_dic_list()) "
    }
   },
   "types_to_exclude": [
    "module",
    "function",
    "builtin_function_or_method",
    "instance",
    "_Feature"
   ],
   "window_display": false
  },
  "version": 3
 },
 "nbformat": 4,
 "nbformat_minor": 2
}
