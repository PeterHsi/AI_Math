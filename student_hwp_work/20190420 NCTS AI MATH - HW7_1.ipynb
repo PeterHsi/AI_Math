{
 "cells": [
  {
   "cell_type": "markdown",
   "metadata": {
    "ExecuteTime": {
     "end_time": "2019-04-20T14:51:11.475336Z",
     "start_time": "2019-04-20T14:51:11.156681Z"
    }
   },
   "source": [
    "# HW 7-1 提升 NN 對 MNIST 的辨識度至正確率 90% 以上\n",
    "\n",
    "---\n",
    "(慣例的基本套件載入)"
   ]
  },
  {
   "cell_type": "code",
   "execution_count": 1,
   "metadata": {
    "ExecuteTime": {
     "end_time": "2019-04-22T08:15:20.631796Z",
     "start_time": "2019-04-22T08:15:20.246673Z"
    }
   },
   "outputs": [],
   "source": [
    "%matplotlib inline\n",
    "import numpy as np\n",
    "import matplotlib.pyplot as plt"
   ]
  },
  {
   "cell_type": "markdown",
   "metadata": {
    "ExecuteTime": {
     "end_time": "2019-04-20T14:51:11.475336Z",
     "start_time": "2019-04-20T14:51:11.156681Z"
    }
   },
   "source": [
    "載入 MNIST 資料檔"
   ]
  },
  {
   "cell_type": "code",
   "execution_count": 2,
   "metadata": {
    "ExecuteTime": {
     "end_time": "2019-04-22T08:15:26.369204Z",
     "start_time": "2019-04-22T08:15:22.128238Z"
    }
   },
   "outputs": [
    {
     "name": "stderr",
     "output_type": "stream",
     "text": [
      "Using TensorFlow backend.\n"
     ]
    }
   ],
   "source": [
    "from keras.datasets import mnist\n",
    "\n",
    "(x_train, y_train), (x_test, y_test) = mnist.load_data()"
   ]
  },
  {
   "cell_type": "markdown",
   "metadata": {
    "ExecuteTime": {
     "end_time": "2019-04-20T14:51:17.048773Z",
     "start_time": "2019-04-20T14:51:17.040795Z"
    }
   },
   "source": [
    "設定一些之後會用到的參數，以及 reshape 待辨識輸入資料使其能被 NN 計算"
   ]
  },
  {
   "cell_type": "code",
   "execution_count": 3,
   "metadata": {
    "ExecuteTime": {
     "end_time": "2019-04-22T08:15:30.564038Z",
     "start_time": "2019-04-22T08:15:30.551072Z"
    }
   },
   "outputs": [],
   "source": [
    "n_train = len(x_train); n_test = len(x_test)\n",
    "x_dim= x_test.shape[1:]; x_dim_re = np.prod(x_dim)\n",
    "\n",
    "x_train = x_train.reshape(n_train, x_dim_re)\n",
    "x_test = x_test.reshape(n_test, x_dim_re)"
   ]
  },
  {
   "cell_type": "markdown",
   "metadata": {
    "ExecuteTime": {
     "end_time": "2019-04-20T14:51:17.114597Z",
     "start_time": "2019-04-20T14:51:17.105622Z"
    }
   },
   "source": [
    "將對應標籤以 one-hot encoding 轉換，使輸出能對應個數字辨識的機率"
   ]
  },
  {
   "cell_type": "code",
   "execution_count": 4,
   "metadata": {
    "ExecuteTime": {
     "end_time": "2019-04-22T08:15:35.395683Z",
     "start_time": "2019-04-22T08:15:35.381723Z"
    }
   },
   "outputs": [],
   "source": [
    "from keras.utils import np_utils\n",
    "y_train = np_utils.to_categorical(y_train, 10)\n",
    "y_test = np_utils.to_categorical(y_test, 10)"
   ]
  },
  {
   "cell_type": "markdown",
   "metadata": {
    "ExecuteTime": {
     "end_time": "2019-04-20T14:59:35.969471Z",
     "start_time": "2019-04-20T14:59:35.857432Z"
    }
   },
   "source": [
    "建立標準 NN 模型，這邊我們用兩層，第一層 81 個神經元，第二層以 16 個神經元操作，activation function 以老師上次上課提到的 relu 替換，而 optimizer 則用了聽說比較不受學習率影響的 Adadelta。\n",
    "\n",
    "(這邊的想法是輸入有 $28\\times 28$ 個，那再如何縮減，這兩層應該都不能太少，故從第一層 $5\\times 5$、第二層 $4\\times 4$ 開始試上去，試到 第一層 $9\\times 9$ 結果就很好於是接受了)"
   ]
  },
  {
   "cell_type": "code",
   "execution_count": 29,
   "metadata": {
    "ExecuteTime": {
     "end_time": "2019-04-22T08:35:20.730453Z",
     "start_time": "2019-04-22T08:35:20.632894Z"
    }
   },
   "outputs": [
    {
     "name": "stdout",
     "output_type": "stream",
     "text": [
      "_________________________________________________________________\n",
      "Layer (type)                 Output Shape              Param #   \n",
      "=================================================================\n",
      "dense_40 (Dense)             (None, 81)                63585     \n",
      "_________________________________________________________________\n",
      "activation_40 (Activation)   (None, 81)                0         \n",
      "_________________________________________________________________\n",
      "dense_41 (Dense)             (None, 16)                1312      \n",
      "_________________________________________________________________\n",
      "activation_41 (Activation)   (None, 16)                0         \n",
      "_________________________________________________________________\n",
      "dense_42 (Dense)             (None, 10)                170       \n",
      "_________________________________________________________________\n",
      "activation_42 (Activation)   (None, 10)                0         \n",
      "=================================================================\n",
      "Total params: 65,067\n",
      "Trainable params: 65,067\n",
      "Non-trainable params: 0\n",
      "_________________________________________________________________\n"
     ]
    }
   ],
   "source": [
    "from keras.models import Sequential\n",
    "from keras.layers import Dense, Activation\n",
    "from keras.optimizers import Adadelta\n",
    "\n",
    "model = Sequential()\n",
    "model.add(Dense(81, input_dim=x_dim_re))\n",
    "model.add(Activation('relu'))\n",
    "model.add(Dense(16))\n",
    "model.add(Activation('relu'))\n",
    "model.add(Dense(10))\n",
    "model.add(Activation('softmax'))\n",
    "model.compile(loss='mse', optimizer=Adadelta(lr=1), metrics=['accuracy'])\n",
    "model.summary()"
   ]
  },
  {
   "cell_type": "markdown",
   "metadata": {
    "ExecuteTime": {
     "end_time": "2019-04-20T15:00:26.496086Z",
     "start_time": "2019-04-20T14:59:38.204934Z"
    }
   },
   "source": [
    "進行模型參數估計"
   ]
  },
  {
   "cell_type": "code",
   "execution_count": 30,
   "metadata": {
    "ExecuteTime": {
     "end_time": "2019-04-22T08:36:10.340846Z",
     "start_time": "2019-04-22T08:35:22.920840Z"
    }
   },
   "outputs": [
    {
     "name": "stdout",
     "output_type": "stream",
     "text": [
      "Epoch 1/20\n",
      "60000/60000 [==============================] - ETA: 0s - loss: 0.0990 - acc: 0.436 - 3s 46us/step - loss: 0.0980 - acc: 0.4411\n",
      "Epoch 2/20\n",
      "60000/60000 [==============================] - 2s 36us/step - loss: 0.0306 - acc: 0.8232\n",
      "Epoch 3/20\n",
      "60000/60000 [==============================] - 2s 35us/step - loss: 0.0227 - acc: 0.8774\n",
      "Epoch 4/20\n",
      "60000/60000 [==============================] - 2s 36us/step - loss: 0.0193 - acc: 0.8933\n",
      "Epoch 5/20\n",
      "60000/60000 [==============================] - 2s 36us/step - loss: 0.0168 - acc: 0.9090\n",
      "Epoch 6/20\n",
      "60000/60000 [==============================] - 2s 40us/step - loss: 0.0151 - acc: 0.9184\n",
      "Epoch 7/20\n",
      "60000/60000 [==============================] - 2s 39us/step - loss: 0.0142 - acc: 0.9229\n",
      "Epoch 8/20\n",
      "60000/60000 [==============================] - 2s 36us/step - loss: 0.0135 - acc: 0.9269\n",
      "Epoch 9/20\n",
      "60000/60000 [==============================] - 2s 40us/step - loss: 0.0124 - acc: 0.9328\n",
      "Epoch 10/20\n",
      "60000/60000 [==============================] - 2s 37us/step - loss: 0.0119 - acc: 0.9359\n",
      "Epoch 11/20\n",
      "60000/60000 [==============================] - 2s 39us/step - loss: 0.0111 - acc: 0.9400\n",
      "Epoch 12/20\n",
      "60000/60000 [==============================] - 2s 39us/step - loss: 0.0109 - acc: 0.9413\n",
      "Epoch 13/20\n",
      "60000/60000 [==============================] - 3s 44us/step - loss: 0.0103 - acc: 0.9449\n",
      "Epoch 14/20\n",
      "60000/60000 [==============================] - 2s 38us/step - loss: 0.0100 - acc: 0.9465\n",
      "Epoch 15/20\n",
      "60000/60000 [==============================] - 2s 38us/step - loss: 0.0097 - acc: 0.9484\n",
      "Epoch 16/20\n",
      "60000/60000 [==============================] - 2s 39us/step - loss: 0.0093 - acc: 0.9505\n",
      "Epoch 17/20\n",
      "60000/60000 [==============================] - 2s 39us/step - loss: 0.0090 - acc: 0.9519\n",
      "Epoch 18/20\n",
      "60000/60000 [==============================] - 2s 40us/step - loss: 0.0089 - acc: 0.9525\n",
      "Epoch 19/20\n",
      "60000/60000 [==============================] - 3s 47us/step - loss: 0.0088 - acc: 0.9526\n",
      "Epoch 20/20\n",
      "60000/60000 [==============================] - 2s 41us/step - loss: 0.0084 - acc: 0.9553: 0s - loss: 0.0083 - acc: 0.955\n"
     ]
    }
   ],
   "source": [
    "model_fitted = model.fit(x_train, y_train, batch_size=100, epochs=20)"
   ]
  },
  {
   "cell_type": "markdown",
   "metadata": {
    "ExecuteTime": {
     "end_time": "2019-04-20T15:00:31.190785Z",
     "start_time": "2019-04-20T15:00:30.760597Z"
    }
   },
   "source": [
    "用測試資料檢查正確率是否接近訓練資料"
   ]
  },
  {
   "cell_type": "code",
   "execution_count": 7,
   "metadata": {
    "ExecuteTime": {
     "end_time": "2019-04-20T16:14:38.885783Z",
     "start_time": "2019-04-20T16:14:38.452529Z"
    }
   },
   "outputs": [
    {
     "name": "stdout",
     "output_type": "stream",
     "text": [
      "10000/10000 [==============================] - 0s 42us/step\n"
     ]
    },
    {
     "data": {
      "text/plain": [
       "[0.010380933525669388, 0.9435]"
      ]
     },
     "execution_count": 8,
     "metadata": {},
     "output_type": "execute_result"
    }
   ],
   "source": [
    "model.evaluate(x_test,y_test)"
   ]
  },
  {
   "cell_type": "markdown",
   "metadata": {
    "ExecuteTime": {
     "end_time": "2019-04-20T15:00:37.023452Z",
     "start_time": "2019-04-20T15:00:36.852816Z"
    }
   },
   "source": [
    "(結果蠻接近的)\n",
    "\n",
    "畫出 epochs 次數與正確率的圖"
   ]
  },
  {
   "cell_type": "code",
   "execution_count": 9,
   "metadata": {
    "ExecuteTime": {
     "end_time": "2019-04-20T16:14:42.584035Z",
     "start_time": "2019-04-20T16:14:42.375374Z"
    }
   },
   "outputs": [
    {
     "data": {
      "text/plain": [
       "[<matplotlib.lines.Line2D at 0x163e136b828>]"
      ]
     },
     "execution_count": 10,
     "metadata": {},
     "output_type": "execute_result"
    },
    {
     "data": {
      "image/png": "[encoded data removed]",
      "text/plain": [
       "<Figure size 432x288 with 1 Axes>"
      ]
     },
     "metadata": {
      "needs_background": "light"
     },
     "output_type": "display_data"
    }
   ],
   "source": [
    "plt.plot(model_fitted.history[\"acc\"])"
   ]
  },
  {
   "cell_type": "markdown",
   "metadata": {
    "ExecuteTime": {
     "end_time": "2019-04-20T15:00:42.906020Z",
     "start_time": "2019-04-20T15:00:42.530503Z"
    }
   },
   "source": [
    "利用互動觀察實際分析狀況"
   ]
  },
  {
   "cell_type": "code",
   "execution_count": 11,
   "metadata": {
    "ExecuteTime": {
     "end_time": "2019-04-20T16:14:45.092944Z",
     "start_time": "2019-04-20T16:14:44.610939Z"
    }
   },
   "outputs": [
    {
     "data": {
      "application/vnd.jupyter.widget-view+json": {
       "model_id": "ad483973872e40eab128bf45417f8e67",
       "version_major": 2,
       "version_minor": 0
      },
      "text/plain": [
       "interactive(children=(IntSlider(value=4999, description='測試編號', max=9999), Button(description='Run Interact', …"
      ]
     },
     "metadata": {},
     "output_type": "display_data"
    },
    {
     "data": {
      "text/plain": [
       "<function __main__.test(測試編號)>"
      ]
     },
     "execution_count": 12,
     "metadata": {},
     "output_type": "execute_result"
    }
   ],
   "source": [
    "from ipywidgets import interact_manual\n",
    "\n",
    "predict = model.predict_classes(x_test)\n",
    "predict\n",
    "\n",
    "def test(測試編號):\n",
    "    plt.imshow(x_test[測試編號].reshape(x_dim), cmap='Greys')\n",
    "    print(predict[測試編號])\n",
    "\n",
    "interact_manual(test,測試編號=(0,9999))"
   ]
  },
  {
   "cell_type": "markdown",
   "metadata": {
    "ExecuteTime": {
     "end_time": "2019-04-20T15:00:42.906020Z",
     "start_time": "2019-04-20T15:00:42.530503Z"
    }
   },
   "source": [
    "儲存"
   ]
  },
  {
   "cell_type": "code",
   "execution_count": null,
   "metadata": {
    "ExecuteTime": {
     "end_time": "2019-04-20T16:14:50.121526Z",
     "start_time": "2019-04-20T16:14:50.005837Z"
    }
   },
   "outputs": [],
   "source": [
    "model_json = model.to_json()\n",
    "open('Data/model_7-1_HWP.json', 'w').write(model_json)\n",
    "model.save_weights('Data/model_7-1_HWP_weights.h5')"
   ]
  },
  {
   "cell_type": "markdown",
   "metadata": {
    "ExecuteTime": {
     "end_time": "2019-04-20T16:14:50.121526Z",
     "start_time": "2019-04-20T16:14:50.005837Z"
    }
   },
   "source": [
    "## 加碼 - 更改 loss function\n",
    "\n",
    "(觀看其他同學的作業後，想嘗試看看 categorical crossentropy 這個符合資料性質(categorical data) 的 loss function 是否能再一步改善狀況)\n",
    "\n",
    "- L1: relu - 25, L2: relu - 16, Loss: categorical crossentropy, Opt: Adadelta(lr: 1)"
   ]
  },
  {
   "cell_type": "code",
   "execution_count": 15,
   "metadata": {
    "ExecuteTime": {
     "end_time": "2019-04-22T08:20:35.906832Z",
     "start_time": "2019-04-22T08:20:35.792837Z"
    }
   },
   "outputs": [
    {
     "name": "stdout",
     "output_type": "stream",
     "text": [
      "_________________________________________________________________\n",
      "Layer (type)                 Output Shape              Param #   \n",
      "=================================================================\n",
      "dense_22 (Dense)             (None, 25)                19625     \n",
      "_________________________________________________________________\n",
      "activation_22 (Activation)   (None, 25)                0         \n",
      "_________________________________________________________________\n",
      "dense_23 (Dense)             (None, 16)                416       \n",
      "_________________________________________________________________\n",
      "activation_23 (Activation)   (None, 16)                0         \n",
      "_________________________________________________________________\n",
      "dense_24 (Dense)             (None, 10)                170       \n",
      "_________________________________________________________________\n",
      "activation_24 (Activation)   (None, 10)                0         \n",
      "=================================================================\n",
      "Total params: 20,211\n",
      "Trainable params: 20,211\n",
      "Non-trainable params: 0\n",
      "_________________________________________________________________\n"
     ]
    }
   ],
   "source": [
    "model_alt = Sequential()\n",
    "model_alt.add(Dense(25, input_dim=x_dim_re))\n",
    "model_alt.add(Activation('relu'))\n",
    "model_alt.add(Dense(16))\n",
    "model_alt.add(Activation('relu'))\n",
    "model_alt.add(Dense(10))\n",
    "model_alt.add(Activation('softmax'))\n",
    "model_alt.compile(loss='categorical_crossentropy', optimizer=Adadelta(lr=1), metrics=['accuracy'])\n",
    "model_alt.summary()"
   ]
  },
  {
   "cell_type": "code",
   "execution_count": 16,
   "metadata": {
    "ExecuteTime": {
     "end_time": "2019-04-22T08:21:08.739554Z",
     "start_time": "2019-04-22T08:20:39.036654Z"
    }
   },
   "outputs": [
    {
     "name": "stdout",
     "output_type": "stream",
     "text": [
      "Epoch 1/20\n",
      "60000/60000 [==============================] - 2s 30us/step - loss: 1.8055 - acc: 0.4003\n",
      "Epoch 2/20\n",
      "60000/60000 [==============================] - 1s 22us/step - loss: 1.1985 - acc: 0.5566\n",
      "Epoch 3/20\n",
      "60000/60000 [==============================] - 1s 24us/step - loss: 1.0083 - acc: 0.6416\n",
      "Epoch 4/20\n",
      "60000/60000 [==============================] - 1s 23us/step - loss: 0.8571 - acc: 0.7116\n",
      "Epoch 5/20\n",
      "60000/60000 [==============================] - 1s 23us/step - loss: 0.7561 - acc: 0.7507\n",
      "Epoch 6/20\n",
      "60000/60000 [==============================] - 1s 24us/step - loss: 0.6719 - acc: 0.7961\n",
      "Epoch 7/20\n",
      "60000/60000 [==============================] - 1s 23us/step - loss: 0.5873 - acc: 0.8364\n",
      "Epoch 8/20\n",
      "60000/60000 [==============================] - 1s 23us/step - loss: 0.5132 - acc: 0.8663\n",
      "Epoch 9/20\n",
      "60000/60000 [==============================] - 1s 24us/step - loss: 0.4435 - acc: 0.8937\n",
      "Epoch 10/20\n",
      "60000/60000 [==============================] - 1s 24us/step - loss: 0.3851 - acc: 0.9145\n",
      "Epoch 11/20\n",
      "60000/60000 [==============================] - 1s 23us/step - loss: 0.3379 - acc: 0.9273\n",
      "Epoch 12/20\n",
      "60000/60000 [==============================] - 1s 24us/step - loss: 0.3061 - acc: 0.9339\n",
      "Epoch 13/20\n",
      "60000/60000 [==============================] - 1s 24us/step - loss: 0.2901 - acc: 0.9391\n",
      "Epoch 14/20\n",
      "60000/60000 [==============================] - 1s 24us/step - loss: 0.2701 - acc: 0.9413\n",
      "Epoch 15/20\n",
      "60000/60000 [==============================] - 1s 24us/step - loss: 0.2551 - acc: 0.9458\n",
      "Epoch 16/20\n",
      "60000/60000 [==============================] - 1s 24us/step - loss: 0.2386 - acc: 0.9487\n",
      "Epoch 17/20\n",
      "60000/60000 [==============================] - 1s 24us/step - loss: 0.2326 - acc: 0.9498\n",
      "Epoch 18/20\n",
      "60000/60000 [==============================] - 1s 24us/step - loss: 0.2235 - acc: 0.9517\n",
      "Epoch 19/20\n",
      "60000/60000 [==============================] - 2s 32us/step - loss: 0.2150 - acc: 0.9539\n",
      "Epoch 20/20\n",
      "60000/60000 [==============================] - 1s 24us/step - loss: 0.2087 - acc: 0.9537\n"
     ]
    }
   ],
   "source": [
    "model_alt_fitted = model_alt.fit(x_train, y_train, batch_size=100, epochs=20)"
   ]
  },
  {
   "cell_type": "markdown",
   "metadata": {
    "ExecuteTime": {
     "end_time": "2019-04-22T08:21:36.799046Z",
     "start_time": "2019-04-22T08:21:36.674380Z"
    }
   },
   "source": [
    "- L1: relu - 81, L2: relu - 16, Loss: categorical crossentropy, Opt: Adadelta(lr: 1)"
   ]
  },
  {
   "cell_type": "code",
   "execution_count": 17,
   "metadata": {
    "ExecuteTime": {
     "end_time": "2019-04-22T08:21:36.799046Z",
     "start_time": "2019-04-22T08:21:36.674380Z"
    }
   },
   "outputs": [
    {
     "name": "stdout",
     "output_type": "stream",
     "text": [
      "_________________________________________________________________\n",
      "Layer (type)                 Output Shape              Param #   \n",
      "=================================================================\n",
      "dense_25 (Dense)             (None, 81)                63585     \n",
      "_________________________________________________________________\n",
      "activation_25 (Activation)   (None, 81)                0         \n",
      "_________________________________________________________________\n",
      "dense_26 (Dense)             (None, 16)                1312      \n",
      "_________________________________________________________________\n",
      "activation_26 (Activation)   (None, 16)                0         \n",
      "_________________________________________________________________\n",
      "dense_27 (Dense)             (None, 10)                170       \n",
      "_________________________________________________________________\n",
      "activation_27 (Activation)   (None, 10)                0         \n",
      "=================================================================\n",
      "Total params: 65,067\n",
      "Trainable params: 65,067\n",
      "Non-trainable params: 0\n",
      "_________________________________________________________________\n"
     ]
    }
   ],
   "source": [
    "model_alt1 = Sequential()\n",
    "model_alt1.add(Dense(81, input_dim=x_dim_re))\n",
    "model_alt1.add(Activation('relu'))\n",
    "model_alt1.add(Dense(16))\n",
    "model_alt1.add(Activation('relu'))\n",
    "model_alt1.add(Dense(10))\n",
    "model_alt1.add(Activation('softmax'))\n",
    "model_alt1.compile(loss='categorical_crossentropy', optimizer=Adadelta(lr=1), metrics=['accuracy'])\n",
    "model_alt1.summary()"
   ]
  },
  {
   "cell_type": "code",
   "execution_count": 18,
   "metadata": {
    "ExecuteTime": {
     "end_time": "2019-04-22T08:22:42.981765Z",
     "start_time": "2019-04-22T08:21:52.218572Z"
    }
   },
   "outputs": [
    {
     "name": "stdout",
     "output_type": "stream",
     "text": [
      "Epoch 1/20\n",
      "60000/60000 [==============================] - 3s 47us/step - loss: 6.5963 - acc: 0.5815\n",
      "Epoch 2/20\n",
      "60000/60000 [==============================] - 2s 41us/step - loss: 2.9920 - acc: 0.8021\n",
      "Epoch 3/20\n",
      "60000/60000 [==============================] - 2s 40us/step - loss: 1.4307 - acc: 0.9001\n",
      "Epoch 4/20\n",
      "60000/60000 [==============================] - 2s 38us/step - loss: 1.1741 - acc: 0.9185\n",
      "Epoch 5/20\n",
      "60000/60000 [==============================] - 2s 38us/step - loss: 1.0051 - acc: 0.9290\n",
      "Epoch 6/20\n",
      "60000/60000 [==============================] - 3s 46us/step - loss: 0.9133 - acc: 0.9350\n",
      "Epoch 7/20\n",
      "60000/60000 [==============================] - 2s 38us/step - loss: 0.8592 - acc: 0.9397\n",
      "Epoch 8/20\n",
      "60000/60000 [==============================] - 2s 40us/step - loss: 0.7917 - acc: 0.9442\n",
      "Epoch 9/20\n",
      "60000/60000 [==============================] - 2s 38us/step - loss: 0.7537 - acc: 0.9467\n",
      "Epoch 10/20\n",
      "60000/60000 [==============================] - 2s 39us/step - loss: 0.6770 - acc: 0.9518\n",
      "Epoch 11/20\n",
      "60000/60000 [==============================] - 2s 41us/step - loss: 0.6362 - acc: 0.9539\n",
      "Epoch 12/20\n",
      "60000/60000 [==============================] - 2s 40us/step - loss: 0.6169 - acc: 0.9556\n",
      "Epoch 13/20\n",
      "60000/60000 [==============================] - 3s 42us/step - loss: 0.5968 - acc: 0.9571\n",
      "Epoch 14/20\n",
      "60000/60000 [==============================] - 2s 40us/step - loss: 0.5698 - acc: 0.9588\n",
      "Epoch 15/20\n",
      "60000/60000 [==============================] - 2s 41us/step - loss: 0.5569 - acc: 0.9591\n",
      "Epoch 16/20\n",
      "60000/60000 [==============================] - 3s 48us/step - loss: 0.5123 - acc: 0.9619\n",
      "Epoch 17/20\n",
      "60000/60000 [==============================] - 3s 45us/step - loss: 0.4872 - acc: 0.9649\n",
      "Epoch 18/20\n",
      "60000/60000 [==============================] - 3s 51us/step - loss: 0.4978 - acc: 0.9639\n",
      "Epoch 19/20\n",
      "60000/60000 [==============================] - 3s 47us/step - loss: 0.4673 - acc: 0.9662\n",
      "Epoch 20/20\n",
      "60000/60000 [==============================] - 2s 40us/step - loss: 0.4649 - acc: 0.9662\n"
     ]
    }
   ],
   "source": [
    "model_alt1_fitted = model_alt1.fit(x_train, y_train, batch_size=100, epochs=20)"
   ]
  },
  {
   "cell_type": "markdown",
   "metadata": {},
   "source": [
    "### 比較\n",
    "\n",
    "先讀取上次成果"
   ]
  },
  {
   "cell_type": "code",
   "execution_count": 20,
   "metadata": {
    "ExecuteTime": {
     "end_time": "2019-04-22T08:31:25.197784Z",
     "start_time": "2019-04-22T08:31:24.878763Z"
    }
   },
   "outputs": [],
   "source": [
    "from keras.models import model_from_json\n",
    "\n",
    "model = model_from_json(open('Data/model_7-1_HWP.json').read())\n",
    "model.load_weights('Data/model_7-1_HWP_weights.h5')\n",
    "model.compile(loss='mse', optimizer=Adadelta(lr=1))"
   ]
  },
  {
   "cell_type": "markdown",
   "metadata": {},
   "source": [
    "然後才傻傻發現沒有存上次的歷史所以要重做...若要儲存歷史要這樣"
   ]
  },
  {
   "cell_type": "code",
   "execution_count": null,
   "metadata": {},
   "outputs": [],
   "source": [
    "with open('Data/model_fitted_7-1_HWP.json', 'w') as file_pi:\n",
    "    pickle.dump(model_fitted, file_pi)"
   ]
  },
  {
   "cell_type": "markdown",
   "metadata": {},
   "source": [
    "然後我重新執行原始的模型(mse as loss function)，發現學習率不像第一次如此好，多執行幾次後也是一樣，直到大約反覆10次後才有與上次像童的正確率，看來要討論參數跟函數對模型的影響，可能還是需要透過 MC (Monte Carlo method) 多跑幾次才能分析的比較正確。"
   ]
  }
 ],
 "metadata": {
  "hide_input": false,
  "kernelspec": {
   "display_name": "Python 3",
   "language": "python",
   "name": "python3"
  },
  "language_info": {
   "codemirror_mode": {
    "name": "ipython",
    "version": 3
   },
   "file_extension": ".py",
   "mimetype": "text/x-python",
   "name": "python",
   "nbconvert_exporter": "python",
   "pygments_lexer": "ipython3",
   "version": "3.6.8"
  },
  "varInspector": {
   "cols": {
    "lenName": 16,
    "lenType": 16,
    "lenVar": 40
   },
   "kernels_config": {
    "python": {
     "delete_cmd_postfix": "",
     "delete_cmd_prefix": "del ",
     "library": "var_list.py",
     "varRefreshCmd": "print(var_dic_list())"
    },
    "r": {
     "delete_cmd_postfix": ") ",
     "delete_cmd_prefix": "rm(",
     "library": "var_list.r",
     "varRefreshCmd": "cat(var_dic_list()) "
    }
   },
   "types_to_exclude": [
    "module",
    "function",
    "builtin_function_or_method",
    "instance",
    "_Feature"
   ],
   "window_display": false
  }
 },
 "nbformat": 4,
 "nbformat_minor": 2
}
