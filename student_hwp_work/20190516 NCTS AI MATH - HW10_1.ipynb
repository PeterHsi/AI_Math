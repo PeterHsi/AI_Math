{
 "cells": [
  {
   "cell_type": "markdown",
   "metadata": {},
   "source": [
    "# HW 10-1 RNN\n",
    "---\n",
    "(慣例的基本套件載入與資料讀取)"
   ]
  },
  {
   "cell_type": "code",
   "execution_count": 1,
   "metadata": {
    "ExecuteTime": {
     "end_time": "2019-05-16T07:41:10.185673Z",
     "start_time": "2019-05-16T07:41:02.327184Z"
    },
    "run_control": {
     "marked": true
    }
   },
   "outputs": [
    {
     "name": "stdout",
     "output_type": "stream",
     "text": [
      "env: KERAS_BACKEND=tensorflow\n",
      "訓練總筆數: 25000\n",
      "測試總筆數: 25000\n"
     ]
    }
   ],
   "source": [
    "%env KERAS_BACKEND=tensorflow\n",
    "%matplotlib inline\n",
    "import numpy as np\n",
    "import pandas as pd\n",
    "import matplotlib.pyplot as plt\n",
    "from keras.datasets import imdb\n",
    "\n",
    "(x_train, y_train), (x_test, y_test) = imdb.load_data(num_words=10000)\n",
    "\n",
    "print('訓練總筆數:', len(x_train))\n",
    "print('測試總筆數:', len(x_test))"
   ]
  },
  {
   "cell_type": "code",
   "execution_count": 2,
   "metadata": {
    "ExecuteTime": {
     "end_time": "2019-05-16T07:41:33.912990Z",
     "start_time": "2019-05-16T07:41:33.710147Z"
    }
   },
   "outputs": [
    {
     "data": {
      "text/plain": [
       "(25000, 150)"
      ]
     },
     "execution_count": 2,
     "metadata": {},
     "output_type": "execute_result"
    }
   ],
   "source": [
    "from keras.preprocessing import sequence\n",
    "x_train = sequence.pad_sequences(x_train, maxlen=150)\n",
    "x_test = sequence.pad_sequences(x_test, maxlen=150)\n",
    "x_train.shape"
   ]
  },
  {
   "cell_type": "code",
   "execution_count": 3,
   "metadata": {
    "ExecuteTime": {
     "end_time": "2019-05-16T07:44:14.883629Z",
     "start_time": "2019-05-16T07:44:14.878643Z"
    }
   },
   "outputs": [],
   "source": [
    "from keras.utils import plot_model\n",
    "from keras.models import Model, Sequential\n",
    "from keras.layers import Dense, Embedding, Input\n",
    "from keras.layers import LSTM\n",
    "from keras.layers import concatenate, add\n",
    "from IPython.display import SVG\n",
    "from keras.utils.vis_utils import model_to_dot"
   ]
  },
  {
   "cell_type": "markdown",
   "metadata": {},
   "source": [
    "以上都跟上課一樣，先用 Functional API 改寫上課的模型："
   ]
  },
  {
   "cell_type": "code",
   "execution_count": 4,
   "metadata": {
    "ExecuteTime": {
     "end_time": "2019-05-16T07:51:26.668454Z",
     "start_time": "2019-05-16T07:51:25.854383Z"
    }
   },
   "outputs": [
    {
     "name": "stdout",
     "output_type": "stream",
     "text": [
      "_________________________________________________________________\n",
      "Layer (type)                 Output Shape              Param #   \n",
      "=================================================================\n",
      "input_1 (InputLayer)         (None, 150)               0         \n",
      "_________________________________________________________________\n",
      "embedding_1 (Embedding)      (None, 150, 3)            30000     \n",
      "_________________________________________________________________\n",
      "lstm_1 (LSTM)                (None, 4)                 128       \n",
      "_________________________________________________________________\n",
      "dense_1 (Dense)              (None, 1)                 5         \n",
      "=================================================================\n",
      "Total params: 30,133\n",
      "Trainable params: 30,133\n",
      "Non-trainable params: 0\n",
      "_________________________________________________________________\n"
     ]
    },
    {
     "data": {
      "image/svg+xml": [
       "<svg height=\"304pt\" viewBox=\"0.00 0.00 242.00 304.00\" width=\"242pt\" xmlns=\"http://www.w3.org/2000/svg\" xmlns:xlink=\"http://www.w3.org/1999/xlink\">\n",
       "<g class=\"graph\" id=\"graph0\" transform=\"scale(1 1) rotate(0) translate(4 300)\">\n",
       "<title>G</title>\n",
       "<polygon fill=\"white\" points=\"-4,4 -4,-300 238,-300 238,4 -4,4\" stroke=\"none\"/>\n",
       "<!-- 2031933663552 -->\n",
       "<g class=\"node\" id=\"node1\"><title>2031933663552</title>\n",
       "<polygon fill=\"none\" points=\"9,-249.5 9,-295.5 225,-295.5 225,-249.5 9,-249.5\" stroke=\"black\"/>\n",
       "<text font-family=\"Times New Roman,serif\" font-size=\"14.00\" text-anchor=\"middle\" x=\"47.5\" y=\"-268.8\">InputLayer</text>\n",
       "<polyline fill=\"none\" points=\"86,-249.5 86,-295.5 \" stroke=\"black\"/>\n",
       "<text font-family=\"Times New Roman,serif\" font-size=\"14.00\" text-anchor=\"middle\" x=\"114\" y=\"-280.3\">input:</text>\n",
       "<polyline fill=\"none\" points=\"86,-272.5 142,-272.5 \" stroke=\"black\"/>\n",
       "<text font-family=\"Times New Roman,serif\" font-size=\"14.00\" text-anchor=\"middle\" x=\"114\" y=\"-257.3\">output:</text>\n",
       "<polyline fill=\"none\" points=\"142,-249.5 142,-295.5 \" stroke=\"black\"/>\n",
       "<text font-family=\"Times New Roman,serif\" font-size=\"14.00\" text-anchor=\"middle\" x=\"183.5\" y=\"-280.3\">(None, 150)</text>\n",
       "<polyline fill=\"none\" points=\"142,-272.5 225,-272.5 \" stroke=\"black\"/>\n",
       "<text font-family=\"Times New Roman,serif\" font-size=\"14.00\" text-anchor=\"middle\" x=\"183.5\" y=\"-257.3\">(None, 150)</text>\n",
       "</g>\n",
       "<!-- 2031933663496 -->\n",
       "<g class=\"node\" id=\"node2\"><title>2031933663496</title>\n",
       "<polygon fill=\"none\" points=\"0,-166.5 0,-212.5 234,-212.5 234,-166.5 0,-166.5\" stroke=\"black\"/>\n",
       "<text font-family=\"Times New Roman,serif\" font-size=\"14.00\" text-anchor=\"middle\" x=\"40\" y=\"-185.8\">Embedding</text>\n",
       "<polyline fill=\"none\" points=\"80,-166.5 80,-212.5 \" stroke=\"black\"/>\n",
       "<text font-family=\"Times New Roman,serif\" font-size=\"14.00\" text-anchor=\"middle\" x=\"108\" y=\"-197.3\">input:</text>\n",
       "<polyline fill=\"none\" points=\"80,-189.5 136,-189.5 \" stroke=\"black\"/>\n",
       "<text font-family=\"Times New Roman,serif\" font-size=\"14.00\" text-anchor=\"middle\" x=\"108\" y=\"-174.3\">output:</text>\n",
       "<polyline fill=\"none\" points=\"136,-166.5 136,-212.5 \" stroke=\"black\"/>\n",
       "<text font-family=\"Times New Roman,serif\" font-size=\"14.00\" text-anchor=\"middle\" x=\"185\" y=\"-197.3\">(None, 150)</text>\n",
       "<polyline fill=\"none\" points=\"136,-189.5 234,-189.5 \" stroke=\"black\"/>\n",
       "<text font-family=\"Times New Roman,serif\" font-size=\"14.00\" text-anchor=\"middle\" x=\"185\" y=\"-174.3\">(None, 150, 3)</text>\n",
       "</g>\n",
       "<!-- 2031933663552&#45;&gt;2031933663496 -->\n",
       "<g class=\"edge\" id=\"edge1\"><title>2031933663552-&gt;2031933663496</title>\n",
       "<path d=\"M117,-249.366C117,-241.152 117,-231.658 117,-222.725\" fill=\"none\" stroke=\"black\"/>\n",
       "<polygon fill=\"black\" points=\"120.5,-222.607 117,-212.607 113.5,-222.607 120.5,-222.607\" stroke=\"black\"/>\n",
       "</g>\n",
       "<!-- 2031933664560 -->\n",
       "<g class=\"node\" id=\"node3\"><title>2031933664560</title>\n",
       "<polygon fill=\"none\" points=\"13,-83.5 13,-129.5 221,-129.5 221,-83.5 13,-83.5\" stroke=\"black\"/>\n",
       "<text font-family=\"Times New Roman,serif\" font-size=\"14.00\" text-anchor=\"middle\" x=\"40\" y=\"-102.8\">LSTM</text>\n",
       "<polyline fill=\"none\" points=\"67,-83.5 67,-129.5 \" stroke=\"black\"/>\n",
       "<text font-family=\"Times New Roman,serif\" font-size=\"14.00\" text-anchor=\"middle\" x=\"95\" y=\"-114.3\">input:</text>\n",
       "<polyline fill=\"none\" points=\"67,-106.5 123,-106.5 \" stroke=\"black\"/>\n",
       "<text font-family=\"Times New Roman,serif\" font-size=\"14.00\" text-anchor=\"middle\" x=\"95\" y=\"-91.3\">output:</text>\n",
       "<polyline fill=\"none\" points=\"123,-83.5 123,-129.5 \" stroke=\"black\"/>\n",
       "<text font-family=\"Times New Roman,serif\" font-size=\"14.00\" text-anchor=\"middle\" x=\"172\" y=\"-114.3\">(None, 150, 3)</text>\n",
       "<polyline fill=\"none\" points=\"123,-106.5 221,-106.5 \" stroke=\"black\"/>\n",
       "<text font-family=\"Times New Roman,serif\" font-size=\"14.00\" text-anchor=\"middle\" x=\"172\" y=\"-91.3\">(None, 4)</text>\n",
       "</g>\n",
       "<!-- 2031933663496&#45;&gt;2031933664560 -->\n",
       "<g class=\"edge\" id=\"edge2\"><title>2031933663496-&gt;2031933664560</title>\n",
       "<path d=\"M117,-166.366C117,-158.152 117,-148.658 117,-139.725\" fill=\"none\" stroke=\"black\"/>\n",
       "<polygon fill=\"black\" points=\"120.5,-139.607 117,-129.607 113.5,-139.607 120.5,-139.607\" stroke=\"black\"/>\n",
       "</g>\n",
       "<!-- 2031933664448 -->\n",
       "<g class=\"node\" id=\"node4\"><title>2031933664448</title>\n",
       "<polygon fill=\"none\" points=\"28.5,-0.5 28.5,-46.5 205.5,-46.5 205.5,-0.5 28.5,-0.5\" stroke=\"black\"/>\n",
       "<text font-family=\"Times New Roman,serif\" font-size=\"14.00\" text-anchor=\"middle\" x=\"54\" y=\"-19.8\">Dense</text>\n",
       "<polyline fill=\"none\" points=\"79.5,-0.5 79.5,-46.5 \" stroke=\"black\"/>\n",
       "<text font-family=\"Times New Roman,serif\" font-size=\"14.00\" text-anchor=\"middle\" x=\"107.5\" y=\"-31.3\">input:</text>\n",
       "<polyline fill=\"none\" points=\"79.5,-23.5 135.5,-23.5 \" stroke=\"black\"/>\n",
       "<text font-family=\"Times New Roman,serif\" font-size=\"14.00\" text-anchor=\"middle\" x=\"107.5\" y=\"-8.3\">output:</text>\n",
       "<polyline fill=\"none\" points=\"135.5,-0.5 135.5,-46.5 \" stroke=\"black\"/>\n",
       "<text font-family=\"Times New Roman,serif\" font-size=\"14.00\" text-anchor=\"middle\" x=\"170.5\" y=\"-31.3\">(None, 4)</text>\n",
       "<polyline fill=\"none\" points=\"135.5,-23.5 205.5,-23.5 \" stroke=\"black\"/>\n",
       "<text font-family=\"Times New Roman,serif\" font-size=\"14.00\" text-anchor=\"middle\" x=\"170.5\" y=\"-8.3\">(None, 1)</text>\n",
       "</g>\n",
       "<!-- 2031933664560&#45;&gt;2031933664448 -->\n",
       "<g class=\"edge\" id=\"edge3\"><title>2031933664560-&gt;2031933664448</title>\n",
       "<path d=\"M117,-83.3664C117,-75.1516 117,-65.6579 117,-56.7252\" fill=\"none\" stroke=\"black\"/>\n",
       "<polygon fill=\"black\" points=\"120.5,-56.6068 117,-46.6068 113.5,-56.6069 120.5,-56.6068\" stroke=\"black\"/>\n",
       "</g>\n",
       "</g>\n",
       "</svg>"
      ],
      "text/plain": [
       "<IPython.core.display.SVG object>"
      ]
     },
     "execution_count": 4,
     "metadata": {},
     "output_type": "execute_result"
    }
   ],
   "source": [
    "N = 3\n",
    "K = 4\n",
    "vis = Input(shape=(150,))\n",
    "l1 = Embedding(10000, N)(vis)\n",
    "l2 = LSTM(K)(l1)\n",
    "opt = Dense(1, activation='sigmoid')(l2)\n",
    "\n",
    "model = Model(inputs=vis, outputs=opt)\n",
    "model.compile(loss='binary_crossentropy', optimizer='adam',\n",
    "              metrics=['accuracy'])\n",
    "\n",
    "model.summary()\n",
    "SVG(model_to_dot(model, show_shapes=True,\n",
    "                 show_layer_names=False).create(prog='dot', format='svg'))"
   ]
  },
  {
   "cell_type": "code",
   "execution_count": 5,
   "metadata": {
    "ExecuteTime": {
     "end_time": "2019-05-16T07:56:28.141129Z",
     "start_time": "2019-05-16T07:51:41.496143Z"
    }
   },
   "outputs": [
    {
     "name": "stdout",
     "output_type": "stream",
     "text": [
      "Epoch 1/5\n",
      "25000/25000 [==============================] - 57s 2ms/step - loss: 0.5067 - acc: 0.7539\n",
      "Epoch 2/5\n",
      "25000/25000 [==============================] - 59s 2ms/step - loss: 0.2984 - acc: 0.8867\n",
      "Epoch 3/5\n",
      "25000/25000 [==============================] - 59s 2ms/step - loss: 0.2334 - acc: 0.9154\n",
      "Epoch 4/5\n",
      "25000/25000 [==============================] - 58s 2ms/step - loss: 0.1978 - acc: 0.9317\n",
      "Epoch 5/5\n",
      "25000/25000 [==============================] - 62s 2ms/step - loss: 0.1690 - acc: 0.9451\n",
      "25000/25000 [==============================] - 8s 310us/step\n",
      "測試資料的 loss = 0.38704827177524564\n",
      "測試資正確率 = 0.85408\n"
     ]
    }
   ],
   "source": [
    "model.fit(x_train, y_train, batch_size=32, epochs=5)\n",
    "score = model.evaluate(x_test, y_test)\n",
    "print(f'測試資料的 loss = {score[0]}')\n",
    "print(f'測試資正確率 = {score[1]}')"
   ]
  },
  {
   "cell_type": "markdown",
   "metadata": {
    "ExecuteTime": {
     "end_time": "2019-05-16T08:47:21.655272Z",
     "start_time": "2019-05-16T08:47:20.469036Z"
    }
   },
   "source": [
    "## 改良模型\n",
    "\n",
    "沒啥靈感，先參考很多人做的 Dropout 後，隨便試試各種參數，發現 N 跟 K 在 100 以上表現沒有顯著差異，於是從小抓起："
   ]
  },
  {
   "cell_type": "code",
   "execution_count": 8,
   "metadata": {
    "ExecuteTime": {
     "end_time": "2019-05-16T10:52:11.531862Z",
     "start_time": "2019-05-16T10:52:10.728114Z"
    }
   },
   "outputs": [
    {
     "name": "stdout",
     "output_type": "stream",
     "text": [
      "_________________________________________________________________\n",
      "Layer (type)                 Output Shape              Param #   \n",
      "=================================================================\n",
      "input_3 (InputLayer)         (None, 150)               0         \n",
      "_________________________________________________________________\n",
      "embedding_3 (Embedding)      (None, 150, 16)           160000    \n",
      "_________________________________________________________________\n",
      "dropout_3 (Dropout)          (None, 150, 16)           0         \n",
      "_________________________________________________________________\n",
      "lstm_3 (LSTM)                (None, 9)                 936       \n",
      "_________________________________________________________________\n",
      "dropout_4 (Dropout)          (None, 9)                 0         \n",
      "_________________________________________________________________\n",
      "dense_3 (Dense)              (None, 1)                 10        \n",
      "=================================================================\n",
      "Total params: 160,946\n",
      "Trainable params: 160,946\n",
      "Non-trainable params: 0\n",
      "_________________________________________________________________\n"
     ]
    },
    {
     "data": {
      "image/svg+xml": [
       "<svg height=\"470pt\" viewBox=\"0.00 0.00 248.00 470.00\" width=\"248pt\" xmlns=\"http://www.w3.org/2000/svg\" xmlns:xlink=\"http://www.w3.org/1999/xlink\">\n",
       "<g class=\"graph\" id=\"graph0\" transform=\"scale(1 1) rotate(0) translate(4 466)\">\n",
       "<title>G</title>\n",
       "<polygon fill=\"white\" points=\"-4,4 -4,-466 244,-466 244,4 -4,4\" stroke=\"none\"/>\n",
       "<!-- 2032156179424 -->\n",
       "<g class=\"node\" id=\"node1\"><title>2032156179424</title>\n",
       "<polygon fill=\"none\" points=\"12,-415.5 12,-461.5 228,-461.5 228,-415.5 12,-415.5\" stroke=\"black\"/>\n",
       "<text font-family=\"Times New Roman,serif\" font-size=\"14.00\" text-anchor=\"middle\" x=\"50.5\" y=\"-434.8\">InputLayer</text>\n",
       "<polyline fill=\"none\" points=\"89,-415.5 89,-461.5 \" stroke=\"black\"/>\n",
       "<text font-family=\"Times New Roman,serif\" font-size=\"14.00\" text-anchor=\"middle\" x=\"117\" y=\"-446.3\">input:</text>\n",
       "<polyline fill=\"none\" points=\"89,-438.5 145,-438.5 \" stroke=\"black\"/>\n",
       "<text font-family=\"Times New Roman,serif\" font-size=\"14.00\" text-anchor=\"middle\" x=\"117\" y=\"-423.3\">output:</text>\n",
       "<polyline fill=\"none\" points=\"145,-415.5 145,-461.5 \" stroke=\"black\"/>\n",
       "<text font-family=\"Times New Roman,serif\" font-size=\"14.00\" text-anchor=\"middle\" x=\"186.5\" y=\"-446.3\">(None, 150)</text>\n",
       "<polyline fill=\"none\" points=\"145,-438.5 228,-438.5 \" stroke=\"black\"/>\n",
       "<text font-family=\"Times New Roman,serif\" font-size=\"14.00\" text-anchor=\"middle\" x=\"186.5\" y=\"-423.3\">(None, 150)</text>\n",
       "</g>\n",
       "<!-- 2032156179368 -->\n",
       "<g class=\"node\" id=\"node2\"><title>2032156179368</title>\n",
       "<polygon fill=\"none\" points=\"0,-332.5 0,-378.5 240,-378.5 240,-332.5 0,-332.5\" stroke=\"black\"/>\n",
       "<text font-family=\"Times New Roman,serif\" font-size=\"14.00\" text-anchor=\"middle\" x=\"40\" y=\"-351.8\">Embedding</text>\n",
       "<polyline fill=\"none\" points=\"80,-332.5 80,-378.5 \" stroke=\"black\"/>\n",
       "<text font-family=\"Times New Roman,serif\" font-size=\"14.00\" text-anchor=\"middle\" x=\"108\" y=\"-363.3\">input:</text>\n",
       "<polyline fill=\"none\" points=\"80,-355.5 136,-355.5 \" stroke=\"black\"/>\n",
       "<text font-family=\"Times New Roman,serif\" font-size=\"14.00\" text-anchor=\"middle\" x=\"108\" y=\"-340.3\">output:</text>\n",
       "<polyline fill=\"none\" points=\"136,-332.5 136,-378.5 \" stroke=\"black\"/>\n",
       "<text font-family=\"Times New Roman,serif\" font-size=\"14.00\" text-anchor=\"middle\" x=\"188\" y=\"-363.3\">(None, 150)</text>\n",
       "<polyline fill=\"none\" points=\"136,-355.5 240,-355.5 \" stroke=\"black\"/>\n",
       "<text font-family=\"Times New Roman,serif\" font-size=\"14.00\" text-anchor=\"middle\" x=\"188\" y=\"-340.3\">(None, 150, 16)</text>\n",
       "</g>\n",
       "<!-- 2032156179424&#45;&gt;2032156179368 -->\n",
       "<g class=\"edge\" id=\"edge1\"><title>2032156179424-&gt;2032156179368</title>\n",
       "<path d=\"M120,-415.366C120,-407.152 120,-397.658 120,-388.725\" fill=\"none\" stroke=\"black\"/>\n",
       "<polygon fill=\"black\" points=\"123.5,-388.607 120,-378.607 116.5,-388.607 123.5,-388.607\" stroke=\"black\"/>\n",
       "</g>\n",
       "<!-- 2032156179592 -->\n",
       "<g class=\"node\" id=\"node3\"><title>2032156179592</title>\n",
       "<polygon fill=\"none\" points=\"8,-249.5 8,-295.5 232,-295.5 232,-249.5 8,-249.5\" stroke=\"black\"/>\n",
       "<text font-family=\"Times New Roman,serif\" font-size=\"14.00\" text-anchor=\"middle\" x=\"40\" y=\"-268.8\">Dropout</text>\n",
       "<polyline fill=\"none\" points=\"72,-249.5 72,-295.5 \" stroke=\"black\"/>\n",
       "<text font-family=\"Times New Roman,serif\" font-size=\"14.00\" text-anchor=\"middle\" x=\"100\" y=\"-280.3\">input:</text>\n",
       "<polyline fill=\"none\" points=\"72,-272.5 128,-272.5 \" stroke=\"black\"/>\n",
       "<text font-family=\"Times New Roman,serif\" font-size=\"14.00\" text-anchor=\"middle\" x=\"100\" y=\"-257.3\">output:</text>\n",
       "<polyline fill=\"none\" points=\"128,-249.5 128,-295.5 \" stroke=\"black\"/>\n",
       "<text font-family=\"Times New Roman,serif\" font-size=\"14.00\" text-anchor=\"middle\" x=\"180\" y=\"-280.3\">(None, 150, 16)</text>\n",
       "<polyline fill=\"none\" points=\"128,-272.5 232,-272.5 \" stroke=\"black\"/>\n",
       "<text font-family=\"Times New Roman,serif\" font-size=\"14.00\" text-anchor=\"middle\" x=\"180\" y=\"-257.3\">(None, 150, 16)</text>\n",
       "</g>\n",
       "<!-- 2032156179368&#45;&gt;2032156179592 -->\n",
       "<g class=\"edge\" id=\"edge2\"><title>2032156179368-&gt;2032156179592</title>\n",
       "<path d=\"M120,-332.366C120,-324.152 120,-314.658 120,-305.725\" fill=\"none\" stroke=\"black\"/>\n",
       "<polygon fill=\"black\" points=\"123.5,-305.607 120,-295.607 116.5,-305.607 123.5,-305.607\" stroke=\"black\"/>\n",
       "</g>\n",
       "<!-- 2032156180096 -->\n",
       "<g class=\"node\" id=\"node4\"><title>2032156180096</title>\n",
       "<polygon fill=\"none\" points=\"13,-166.5 13,-212.5 227,-212.5 227,-166.5 13,-166.5\" stroke=\"black\"/>\n",
       "<text font-family=\"Times New Roman,serif\" font-size=\"14.00\" text-anchor=\"middle\" x=\"40\" y=\"-185.8\">LSTM</text>\n",
       "<polyline fill=\"none\" points=\"67,-166.5 67,-212.5 \" stroke=\"black\"/>\n",
       "<text font-family=\"Times New Roman,serif\" font-size=\"14.00\" text-anchor=\"middle\" x=\"95\" y=\"-197.3\">input:</text>\n",
       "<polyline fill=\"none\" points=\"67,-189.5 123,-189.5 \" stroke=\"black\"/>\n",
       "<text font-family=\"Times New Roman,serif\" font-size=\"14.00\" text-anchor=\"middle\" x=\"95\" y=\"-174.3\">output:</text>\n",
       "<polyline fill=\"none\" points=\"123,-166.5 123,-212.5 \" stroke=\"black\"/>\n",
       "<text font-family=\"Times New Roman,serif\" font-size=\"14.00\" text-anchor=\"middle\" x=\"175\" y=\"-197.3\">(None, 150, 16)</text>\n",
       "<polyline fill=\"none\" points=\"123,-189.5 227,-189.5 \" stroke=\"black\"/>\n",
       "<text font-family=\"Times New Roman,serif\" font-size=\"14.00\" text-anchor=\"middle\" x=\"175\" y=\"-174.3\">(None, 9)</text>\n",
       "</g>\n",
       "<!-- 2032156179592&#45;&gt;2032156180096 -->\n",
       "<g class=\"edge\" id=\"edge3\"><title>2032156179592-&gt;2032156180096</title>\n",
       "<path d=\"M120,-249.366C120,-241.152 120,-231.658 120,-222.725\" fill=\"none\" stroke=\"black\"/>\n",
       "<polygon fill=\"black\" points=\"123.5,-222.607 120,-212.607 116.5,-222.607 123.5,-222.607\" stroke=\"black\"/>\n",
       "</g>\n",
       "<!-- 2032156179760 -->\n",
       "<g class=\"node\" id=\"node5\"><title>2032156179760</title>\n",
       "<polygon fill=\"none\" points=\"25,-83.5 25,-129.5 215,-129.5 215,-83.5 25,-83.5\" stroke=\"black\"/>\n",
       "<text font-family=\"Times New Roman,serif\" font-size=\"14.00\" text-anchor=\"middle\" x=\"57\" y=\"-102.8\">Dropout</text>\n",
       "<polyline fill=\"none\" points=\"89,-83.5 89,-129.5 \" stroke=\"black\"/>\n",
       "<text font-family=\"Times New Roman,serif\" font-size=\"14.00\" text-anchor=\"middle\" x=\"117\" y=\"-114.3\">input:</text>\n",
       "<polyline fill=\"none\" points=\"89,-106.5 145,-106.5 \" stroke=\"black\"/>\n",
       "<text font-family=\"Times New Roman,serif\" font-size=\"14.00\" text-anchor=\"middle\" x=\"117\" y=\"-91.3\">output:</text>\n",
       "<polyline fill=\"none\" points=\"145,-83.5 145,-129.5 \" stroke=\"black\"/>\n",
       "<text font-family=\"Times New Roman,serif\" font-size=\"14.00\" text-anchor=\"middle\" x=\"180\" y=\"-114.3\">(None, 9)</text>\n",
       "<polyline fill=\"none\" points=\"145,-106.5 215,-106.5 \" stroke=\"black\"/>\n",
       "<text font-family=\"Times New Roman,serif\" font-size=\"14.00\" text-anchor=\"middle\" x=\"180\" y=\"-91.3\">(None, 9)</text>\n",
       "</g>\n",
       "<!-- 2032156180096&#45;&gt;2032156179760 -->\n",
       "<g class=\"edge\" id=\"edge4\"><title>2032156180096-&gt;2032156179760</title>\n",
       "<path d=\"M120,-166.366C120,-158.152 120,-148.658 120,-139.725\" fill=\"none\" stroke=\"black\"/>\n",
       "<polygon fill=\"black\" points=\"123.5,-139.607 120,-129.607 116.5,-139.607 123.5,-139.607\" stroke=\"black\"/>\n",
       "</g>\n",
       "<!-- 2032161282480 -->\n",
       "<g class=\"node\" id=\"node6\"><title>2032161282480</title>\n",
       "<polygon fill=\"none\" points=\"31.5,-0.5 31.5,-46.5 208.5,-46.5 208.5,-0.5 31.5,-0.5\" stroke=\"black\"/>\n",
       "<text font-family=\"Times New Roman,serif\" font-size=\"14.00\" text-anchor=\"middle\" x=\"57\" y=\"-19.8\">Dense</text>\n",
       "<polyline fill=\"none\" points=\"82.5,-0.5 82.5,-46.5 \" stroke=\"black\"/>\n",
       "<text font-family=\"Times New Roman,serif\" font-size=\"14.00\" text-anchor=\"middle\" x=\"110.5\" y=\"-31.3\">input:</text>\n",
       "<polyline fill=\"none\" points=\"82.5,-23.5 138.5,-23.5 \" stroke=\"black\"/>\n",
       "<text font-family=\"Times New Roman,serif\" font-size=\"14.00\" text-anchor=\"middle\" x=\"110.5\" y=\"-8.3\">output:</text>\n",
       "<polyline fill=\"none\" points=\"138.5,-0.5 138.5,-46.5 \" stroke=\"black\"/>\n",
       "<text font-family=\"Times New Roman,serif\" font-size=\"14.00\" text-anchor=\"middle\" x=\"173.5\" y=\"-31.3\">(None, 9)</text>\n",
       "<polyline fill=\"none\" points=\"138.5,-23.5 208.5,-23.5 \" stroke=\"black\"/>\n",
       "<text font-family=\"Times New Roman,serif\" font-size=\"14.00\" text-anchor=\"middle\" x=\"173.5\" y=\"-8.3\">(None, 1)</text>\n",
       "</g>\n",
       "<!-- 2032156179760&#45;&gt;2032161282480 -->\n",
       "<g class=\"edge\" id=\"edge5\"><title>2032156179760-&gt;2032161282480</title>\n",
       "<path d=\"M120,-83.3664C120,-75.1516 120,-65.6579 120,-56.7252\" fill=\"none\" stroke=\"black\"/>\n",
       "<polygon fill=\"black\" points=\"123.5,-56.6068 120,-46.6068 116.5,-56.6069 123.5,-56.6068\" stroke=\"black\"/>\n",
       "</g>\n",
       "</g>\n",
       "</svg>"
      ],
      "text/plain": [
       "<IPython.core.display.SVG object>"
      ]
     },
     "execution_count": 8,
     "metadata": {},
     "output_type": "execute_result"
    }
   ],
   "source": [
    "from keras.layers import Dropout\n",
    "N = 16\n",
    "K = 9\n",
    "vis = Input(shape=(150,))\n",
    "l1 = Embedding(10000, N)(vis)\n",
    "do1 = Dropout(0.75)(l1)\n",
    "l2 = LSTM(K)(do1)\n",
    "do2 = Dropout(0.25)(l2)\n",
    "opt = Dense(1, activation='sigmoid')(do2)\n",
    "\n",
    "model2 = Model(inputs=vis, outputs=opt)\n",
    "model2.compile(loss='binary_crossentropy', optimizer='adam',\n",
    "              metrics=['accuracy'])\n",
    "\n",
    "model2.summary()\n",
    "SVG(model_to_dot(model2, show_shapes=True,\n",
    "                 show_layer_names=False).create(prog='dot', format='svg'))"
   ]
  },
  {
   "cell_type": "code",
   "execution_count": 9,
   "metadata": {
    "ExecuteTime": {
     "end_time": "2019-05-16T11:35:39.983649Z",
     "start_time": "2019-05-16T10:52:17.729830Z"
    }
   },
   "outputs": [
    {
     "name": "stdout",
     "output_type": "stream",
     "text": [
      "Epoch 1/5\n",
      "25000/25000 [==============================] - 61s 2ms/step - loss: 0.5310 - acc: 0.7215\n",
      "Epoch 2/5\n",
      "25000/25000 [==============================] - 65s 3ms/step - loss: 0.3406 - acc: 0.8622\n",
      "Epoch 3/5\n",
      "25000/25000 [==============================] - 64s 3ms/step - loss: 0.2950 - acc: 0.8834\n",
      "Epoch 4/5\n",
      "25000/25000 [==============================] - 61s 2ms/step - loss: 0.2654 - acc: 0.8970\n",
      "Epoch 5/5\n",
      "25000/25000 [==============================] - 62s 2ms/step - loss: 0.2485 - acc: 0.9030\n",
      "25000/25000 [==============================] - 8s 312us/step\n",
      "測試資料的 loss = 0.30838092806816103\n",
      "測試資正確率 = 0.87124\n"
     ]
    }
   ],
   "source": [
    "model2.fit(x_train, y_train, batch_size=32, epochs=5)\n",
    "score2 = model2.evaluate(x_test, y_test)\n",
    "print(f'測試資料的 loss = {score2[0]}')\n",
    "print(f'測試資正確率 = {score2[1]}')"
   ]
  },
  {
   "cell_type": "markdown",
   "metadata": {},
   "source": [
    "勉強達標"
   ]
  }
 ],
 "metadata": {
  "hide_input": false,
  "kernelspec": {
   "display_name": "Python 3",
   "language": "python",
   "name": "python3"
  },
  "language_info": {
   "codemirror_mode": {
    "name": "ipython",
    "version": 3
   },
   "file_extension": ".py",
   "mimetype": "text/x-python",
   "name": "python",
   "nbconvert_exporter": "python",
   "pygments_lexer": "ipython3",
   "version": "3.6.8"
  },
  "varInspector": {
   "cols": {
    "lenName": 16,
    "lenType": 16,
    "lenVar": 40
   },
   "kernels_config": {
    "python": {
     "delete_cmd_postfix": "",
     "delete_cmd_prefix": "del ",
     "library": "var_list.py",
     "varRefreshCmd": "print(var_dic_list())"
    },
    "r": {
     "delete_cmd_postfix": ") ",
     "delete_cmd_prefix": "rm(",
     "library": "var_list.r",
     "varRefreshCmd": "cat(var_dic_list()) "
    }
   },
   "types_to_exclude": [
    "module",
    "function",
    "builtin_function_or_method",
    "instance",
    "_Feature"
   ],
   "window_display": false
  }
 },
 "nbformat": 4,
 "nbformat_minor": 2
}
